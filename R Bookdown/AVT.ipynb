{
 "cells": [
  {
   "cell_type": "markdown",
   "metadata": {},
   "source": [
    "**Extracting answers from claim notes**\n",
    "\n",
    "**Author:** Matthias Quinn\n",
    "\n",
    "**Date:** March 17th, 2022\n",
    "\n",
    "**Project:** AVT"
   ]
  },
  {
   "cell_type": "code",
   "execution_count": 3,
   "metadata": {},
   "outputs": [],
   "source": [
    "import numpy as np\n",
    "import pandas as pd\n",
    "import re"
   ]
  },
  {
   "cell_type": "code",
   "execution_count": 4,
   "metadata": {},
   "outputs": [],
   "source": [
    "claims = pd.read_excel(\"Quinn_AVT Workspace.xlsx\", sheet_name=\"AVT Claims\", index_col=None)"
   ]
  },
  {
   "cell_type": "code",
   "execution_count": 5,
   "metadata": {},
   "outputs": [
    {
     "data": {
      "text/html": [
       "<div>\n",
       "<style scoped>\n",
       "    .dataframe tbody tr th:only-of-type {\n",
       "        vertical-align: middle;\n",
       "    }\n",
       "\n",
       "    .dataframe tbody tr th {\n",
       "        vertical-align: top;\n",
       "    }\n",
       "\n",
       "    .dataframe thead th {\n",
       "        text-align: right;\n",
       "    }\n",
       "</style>\n",
       "<table border=\"1\" class=\"dataframe\">\n",
       "  <thead>\n",
       "    <tr style=\"text-align: right;\">\n",
       "      <th></th>\n",
       "      <th>WorkerFullName</th>\n",
       "      <th>DirectManagerName</th>\n",
       "      <th>AVTGroup</th>\n",
       "      <th>ReportDate</th>\n",
       "      <th>ClaimYear</th>\n",
       "      <th>ClaimNumber</th>\n",
       "      <th>FullClaim</th>\n",
       "      <th>ClaimNote</th>\n",
       "      <th>REP_CD</th>\n",
       "      <th>CLRU_REP_CD</th>\n",
       "      <th>ClaimReportByCategory</th>\n",
       "      <th>VehicleYear</th>\n",
       "      <th>VehicleMake</th>\n",
       "      <th>VehicleModel</th>\n",
       "      <th>Type</th>\n",
       "    </tr>\n",
       "  </thead>\n",
       "  <tbody>\n",
       "    <tr>\n",
       "      <th>0</th>\n",
       "      <td>Williams,Shaquan W.</td>\n",
       "      <td>Allen,Princess S</td>\n",
       "      <td>B</td>\n",
       "      <td>2022-02-25</td>\n",
       "      <td>22</td>\n",
       "      <td>2215002</td>\n",
       "      <td>22-2215002</td>\n",
       "      <td>IMMEDIATE CONCERNS:                           ...</td>\n",
       "      <td>A162742</td>\n",
       "      <td>A156222</td>\n",
       "      <td>INSURED</td>\n",
       "      <td>20</td>\n",
       "      <td>HYUNDAI</td>\n",
       "      <td>SANTA FE</td>\n",
       "      <td>INTERSECTION</td>\n",
       "    </tr>\n",
       "    <tr>\n",
       "      <th>1</th>\n",
       "      <td>Rivera,Shalanda N</td>\n",
       "      <td>Loncaric,Christopher Anton</td>\n",
       "      <td>A</td>\n",
       "      <td>2022-02-28</td>\n",
       "      <td>22</td>\n",
       "      <td>2215835</td>\n",
       "      <td>22-2215835</td>\n",
       "      <td>AVT FNOL QUESTIONS                            ...</td>\n",
       "      <td>A162321</td>\n",
       "      <td>A164246</td>\n",
       "      <td>INSURED</td>\n",
       "      <td>21</td>\n",
       "      <td>MAZDA</td>\n",
       "      <td>CX-30</td>\n",
       "      <td>INTERSECTION</td>\n",
       "    </tr>\n",
       "    <tr>\n",
       "      <th>2</th>\n",
       "      <td>Duff,Lacreasha</td>\n",
       "      <td>Faussett,Jason Curtis</td>\n",
       "      <td>A</td>\n",
       "      <td>2022-03-01</td>\n",
       "      <td>22</td>\n",
       "      <td>2216037</td>\n",
       "      <td>22-2216037</td>\n",
       "      <td>IMMEDIATE CONCERNS:                           ...</td>\n",
       "      <td>A144314</td>\n",
       "      <td>A161370</td>\n",
       "      <td>INSURED</td>\n",
       "      <td>20</td>\n",
       "      <td>FORD</td>\n",
       "      <td>ESCAPE</td>\n",
       "      <td>MERGING</td>\n",
       "    </tr>\n",
       "    <tr>\n",
       "      <th>3</th>\n",
       "      <td>Pounds,Toni</td>\n",
       "      <td>Allen,Princess S</td>\n",
       "      <td>B</td>\n",
       "      <td>2022-03-02</td>\n",
       "      <td>22</td>\n",
       "      <td>2216479</td>\n",
       "      <td>22-2216479</td>\n",
       "      <td>AVT FNOL QUESTIONS                            ...</td>\n",
       "      <td>A109573</td>\n",
       "      <td>A160374</td>\n",
       "      <td>INSURED</td>\n",
       "      <td>20</td>\n",
       "      <td>CHEVROLET</td>\n",
       "      <td>MALIBU</td>\n",
       "      <td>LEFT OF CENTER</td>\n",
       "    </tr>\n",
       "    <tr>\n",
       "      <th>4</th>\n",
       "      <td>Borally,Estacia Emily</td>\n",
       "      <td>Loncaric,Christopher Anton</td>\n",
       "      <td>A</td>\n",
       "      <td>2022-03-03</td>\n",
       "      <td>22</td>\n",
       "      <td>2216846</td>\n",
       "      <td>22-2216846</td>\n",
       "      <td>IMMEDIATE CONCERNS:                           ...</td>\n",
       "      <td>A157192</td>\n",
       "      <td>A148719</td>\n",
       "      <td>INSURED</td>\n",
       "      <td>21</td>\n",
       "      <td>TOYOTA</td>\n",
       "      <td>4RUNNER</td>\n",
       "      <td>REAREND</td>\n",
       "    </tr>\n",
       "  </tbody>\n",
       "</table>\n",
       "</div>"
      ],
      "text/plain": [
       "          WorkerFullName           DirectManagerName AVTGroup ReportDate  \\\n",
       "0    Williams,Shaquan W.            Allen,Princess S        B 2022-02-25   \n",
       "1      Rivera,Shalanda N  Loncaric,Christopher Anton        A 2022-02-28   \n",
       "2         Duff,Lacreasha       Faussett,Jason Curtis        A 2022-03-01   \n",
       "3            Pounds,Toni            Allen,Princess S        B 2022-03-02   \n",
       "4  Borally,Estacia Emily  Loncaric,Christopher Anton        A 2022-03-03   \n",
       "\n",
       "   ClaimYear  ClaimNumber   FullClaim  \\\n",
       "0         22      2215002  22-2215002   \n",
       "1         22      2215835  22-2215835   \n",
       "2         22      2216037  22-2216037   \n",
       "3         22      2216479  22-2216479   \n",
       "4         22      2216846  22-2216846   \n",
       "\n",
       "                                           ClaimNote   REP_CD CLRU_REP_CD  \\\n",
       "0  IMMEDIATE CONCERNS:                           ...  A162742     A156222   \n",
       "1  AVT FNOL QUESTIONS                            ...  A162321     A164246   \n",
       "2  IMMEDIATE CONCERNS:                           ...  A144314     A161370   \n",
       "3  AVT FNOL QUESTIONS                            ...  A109573     A160374   \n",
       "4  IMMEDIATE CONCERNS:                           ...  A157192     A148719   \n",
       "\n",
       "  ClaimReportByCategory  VehicleYear VehicleMake VehicleModel            Type  \n",
       "0               INSURED           20     HYUNDAI     SANTA FE    INTERSECTION  \n",
       "1               INSURED           21       MAZDA        CX-30    INTERSECTION  \n",
       "2               INSURED           20        FORD       ESCAPE         MERGING  \n",
       "3               INSURED           20   CHEVROLET       MALIBU  LEFT OF CENTER  \n",
       "4               INSURED           21      TOYOTA      4RUNNER         REAREND  "
      ]
     },
     "execution_count": 5,
     "metadata": {},
     "output_type": "execute_result"
    }
   ],
   "source": [
    "claims.head()"
   ]
  },
  {
   "cell_type": "markdown",
   "metadata": {},
   "source": [
    "**Retrieve just the claim notes:**"
   ]
  },
  {
   "cell_type": "code",
   "execution_count": 6,
   "metadata": {},
   "outputs": [
    {
     "data": {
      "text/plain": [
       "0    IMMEDIATE CONCERNS:                           ...\n",
       "1    AVT FNOL QUESTIONS                            ...\n",
       "2    IMMEDIATE CONCERNS:                           ...\n",
       "3    AVT FNOL QUESTIONS                            ...\n",
       "4    IMMEDIATE CONCERNS:                           ...\n",
       "Name: ClaimNote, dtype: object"
      ]
     },
     "execution_count": 6,
     "metadata": {},
     "output_type": "execute_result"
    }
   ],
   "source": [
    "claimNotes = claims[\"ClaimNote\"]\n",
    "\n",
    "claimNotes.head()"
   ]
  },
  {
   "cell_type": "code",
   "execution_count": 25,
   "metadata": {},
   "outputs": [
    {
     "name": "stdout",
     "output_type": "stream",
     "text": [
      "IMMEDIATE CONCERNS:                                                            AVT FNOL QUESTIONS                                                             -                                                                               DOES YOUR VEHICLE HAVE ANY TECHNOLOGY THAT ALLOWS IT TO STEER, BRAKE AND      ACCELERATE ON ITS OWN? NO IF YES, DID YOU TURN ON ANY OF THAT TECHNOLOGY       BEFORE THE LOSS? YES OR NO NO                                                  -                                                                              FOR JUMPSTART TEST ONLY\n"
     ]
    }
   ],
   "source": [
    "sampleB = \"IMMEDIATE CONCERNS:                                                            AVT FNOL QUESTIONS                                                             -                                                                               DOES YOUR VEHICLE HAVE ANY TECHNOLOGY THAT ALLOWS IT TO STEER, BRAKE AND      ACCELERATE ON ITS OWN? NO IF YES, DID YOU TURN ON ANY OF THAT TECHNOLOGY       BEFORE THE LOSS? YES OR NO NO                                                  -                                                                              FOR JUMPSTART TEST ONLY\"\n",
    "print(sampleB)"
   ]
  },
  {
   "cell_type": "code",
   "execution_count": 50,
   "metadata": {},
   "outputs": [
    {
     "name": "stdout",
     "output_type": "stream",
     "text": [
      "AVT FNOL QUESTIONS                                                             -                                                                               BEFORE THE LOSS, DID YOU TURN ON ANY TECHNOLOGY THAT ALLOWS YOUR VEHICLE TO   STEER, BRAKE AND ACCELERATE ON IT'S OWN? YES OR NONO                           -                                                                              FOR JUMPSTART TEST ONLY\n"
     ]
    }
   ],
   "source": [
    "sampleA = \"AVT FNOL QUESTIONS                                                             -                                                                               BEFORE THE LOSS, DID YOU TURN ON ANY TECHNOLOGY THAT ALLOWS YOUR VEHICLE TO   STEER, BRAKE AND ACCELERATE ON IT'S OWN? YES OR NONO                           -                                                                              FOR JUMPSTART TEST ONLY\"\n",
    "print(sampleA)"
   ]
  },
  {
   "cell_type": "code",
   "execution_count": 51,
   "metadata": {},
   "outputs": [
    {
     "data": {
      "text/plain": [
       "\" - BEFORE THE LOSS  DID YOU TURN ON ANY THAT ALLOWS YOUR VEHICLE TO STEER  BRAKE AND ACCELERATE ON IT'S OWN? YES OR NONO - FOR JUMPSTART TEST \""
      ]
     },
     "execution_count": 51,
     "metadata": {},
     "output_type": "execute_result"
    }
   ],
   "source": [
    "def cleanNote(claimNote):\n",
    "    upperNote = str(claimNote).upper()\n",
    "    trimNote = \" \".join(upperNote.split())\n",
    "    spaceNote = trimNote.replace(\"  \", \" \")\n",
    "    # spaceNote = spaceNote.replace(\"NONO\", \"NO NO\")\n",
    "    # spaceNote = spaceNote.replace(\"YESYES\", \"YES YES\")\n",
    "    spaceNote = re.sub(',', \" \", spaceNote)\n",
    "    btwnNote = re.search('AVT FNOL QUESTIONS(.*?)ONLY', spaceNote).group(1)\n",
    "    removeWords = [\"TECHNOLOGY\", \"NOTE\", \"FNOL\"]\n",
    "    splitNote = [i for i in btwnNote.split(\" \") if i not in removeWords]\n",
    "    keepNote = \" \".join(splitNote)\n",
    "\n",
    "    return keepNote\n",
    "\n",
    "cleanB = cleanNote(sampleB)\n",
    "cleanA = cleanNote(sampleA)\n",
    "\n",
    "cleanA"
   ]
  },
  {
   "cell_type": "code",
   "execution_count": 58,
   "metadata": {},
   "outputs": [
    {
     "name": "stdout",
     "output_type": "stream",
     "text": [
      "{'Nos': 2, 'Yeses': 1}\n"
     ]
    },
    {
     "data": {
      "text/plain": [
       "'NO'"
      ]
     },
     "execution_count": 58,
     "metadata": {},
     "output_type": "execute_result"
    }
   ],
   "source": [
    "def groupA(cleanNote: str, group: str):\n",
    "    \"Extracts the answer to the question from the claim note for only Group A\"\n",
    "    Nos = cleanNote.count(\"NO\")\n",
    "    Yeses = cleanNote.count(\"YES\")\n",
    "\n",
    "    print({\"Nos\": Nos, \"Yeses\": Yeses})\n",
    "\n",
    "    if group == \"A\" and (Nos % 2 == 0) and \"YES OR NO\" in cleanNote:\n",
    "        return \"NO\"\n",
    "    \n",
    "    elif group == \"A\" and (Nos % 2 == 0) and \"YES OR NO\" not in cleanNote:\n",
    "        return \"NO\"\n",
    "    \n",
    "    else:\n",
    "        return \"YES\"\n",
    "\n",
    "groupA(cleanA, \"A\")"
   ]
  }
 ],
 "metadata": {
  "interpreter": {
   "hash": "b31f750b236a9bc4d767426cef20f0026ec33af4f230c1ad75ae86a0313a2829"
  },
  "kernelspec": {
   "display_name": "Python 3.9.10 ('MLDL')",
   "language": "python",
   "name": "python3"
  },
  "language_info": {
   "codemirror_mode": {
    "name": "ipython",
    "version": 3
   },
   "file_extension": ".py",
   "mimetype": "text/x-python",
   "name": "python",
   "nbconvert_exporter": "python",
   "pygments_lexer": "ipython3",
   "version": "3.9.10"
  },
  "orig_nbformat": 4
 },
 "nbformat": 4,
 "nbformat_minor": 2
}
